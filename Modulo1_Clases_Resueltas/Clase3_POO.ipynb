{
 "cells": [
  {
   "cell_type": "markdown",
   "metadata": {},
   "source": [
    "<img style=\"float: left;;\" src='Imagenes/iteso.jpg' width=\"50\" height=\"100\"/></a>\n",
    "\n",
    "# <center> <font color= #000047> Módulo 1: Programación orientada a objetos\n",
    "\n"
   ]
  },
  {
   "cell_type": "markdown",
   "metadata": {},
   "source": [
    " \n",
    "<img style=\"float: right; margin: 0px 0px 15px 15px;\" src=\"https://upload.wikimedia.org/wikipedia/commons/6/62/CPT-OOP-objects_and_classes.svg\" width=\"400px\" height=\"400px\" />\n",
    "\n",
    "> Ya vimos toda la sintaxis básica de Python, cómo hacer funciones y los diferentes clases de objetos que podemos utilizar. Vimos además que cada uno de los objetos tienen diferentes métodos y atributos que traen consigo, y nos facilitan la vida enormemente.\n",
    "\n",
    "> Pero, ¿qué son clases?, ¿qué son objetos?, ¿cómo construir nuestras propias clases?\n",
    "\n",
    "> Resolver estas preguntas nos ocupará en esta sesión.\n",
    "\n",
    "\n",
    "Referencias:\n",
    "- https://realpython.com/python3-object-oriented-programming/\n",
    "___"
   ]
  },
  {
   "cell_type": "markdown",
   "metadata": {},
   "source": [
    "# 0. ¿Qué son los objetos?\n",
    "\n",
    "La clase pasada ya hablamos un poco de esto. Dijimos que todo en python es un objeto. Por ejemplo:"
   ]
  },
  {
   "cell_type": "code",
   "execution_count": 4,
   "metadata": {},
   "outputs": [
    {
     "name": "stdout",
     "output_type": "stream",
     "text": [
      "42 es un objeto de <class 'int'>\n",
      "Hello world es un objeto de <class 'str'>\n"
     ]
    }
   ],
   "source": [
    "x = 42\n",
    "print('%d es un objeto de %s' %(x, type(x)))\n",
    "\n",
    "x = 'Hello world'\n",
    "print('%s es un objeto de %s' %(x, type(x)))\n",
    "\n",
    "x = 'Hello world'\n",
    "print('%s es un objeto de %s' %(x, type(x)))"
   ]
  },
  {
   "cell_type": "code",
   "execution_count": 5,
   "metadata": {},
   "outputs": [
    {
     "name": "stdout",
     "output_type": "stream",
     "text": [
      "{'name': 'gaddiel', 'age': 33} es un objeto de <class 'dict'>\n"
     ]
    }
   ],
   "source": [
    "x={'name':'gaddiel', 'age': 33 }\n",
    "print('%s es un objeto de %s' %(x, type(x)))"
   ]
  },
  {
   "cell_type": "markdown",
   "metadata": {},
   "source": [
    "Ya sabemos que los enteros (`int`), las cadenas de caracteres (`str`), y los diccionarios (`dict`) se comportan de formas distintas. Tienen distintas propiedades y funcionalidades, o técnicamente, tienen distintos **atributos** y **métodos**."
   ]
  },
  {
   "cell_type": "markdown",
   "metadata": {},
   "source": [
    "Como dijimos la clase pasada, los atributos de un objeto son variables internas que contienen información del objeto:"
   ]
  },
  {
   "cell_type": "code",
   "execution_count": 6,
   "metadata": {},
   "outputs": [
    {
     "name": "stdout",
     "output_type": "stream",
     "text": [
      "(4+5j) es un objeto de <class 'complex'>\n"
     ]
    }
   ],
   "source": [
    "# Un número complejo y sus partes real e imaginaria\n",
    "x = complex(4,5)\n",
    "print('%s es un objeto de %s' %(x, type(x)))"
   ]
  },
  {
   "cell_type": "code",
   "execution_count": 7,
   "metadata": {},
   "outputs": [
    {
     "data": {
      "text/plain": [
       "(4.0, 5.0)"
      ]
     },
     "execution_count": 7,
     "metadata": {},
     "output_type": "execute_result"
    }
   ],
   "source": [
    "x.real, x.imag"
   ]
  },
  {
   "cell_type": "code",
   "execution_count": 8,
   "metadata": {},
   "outputs": [],
   "source": [
    "s = 'hola'"
   ]
  },
  {
   "cell_type": "code",
   "execution_count": 10,
   "metadata": {},
   "outputs": [
    {
     "ename": "AttributeError",
     "evalue": "'str' object has no attribute 'imag'",
     "output_type": "error",
     "traceback": [
      "\u001b[1;31m---------------------------------------------------------------------------\u001b[0m",
      "\u001b[1;31mAttributeError\u001b[0m                            Traceback (most recent call last)",
      "\u001b[1;32m~\\AppData\\Local\\Temp/ipykernel_42264/2234455947.py\u001b[0m in \u001b[0;36m<module>\u001b[1;34m\u001b[0m\n\u001b[1;32m----> 1\u001b[1;33m \u001b[0ms\u001b[0m\u001b[1;33m.\u001b[0m\u001b[0mimag\u001b[0m\u001b[1;33m\u001b[0m\u001b[1;33m\u001b[0m\u001b[0m\n\u001b[0m",
      "\u001b[1;31mAttributeError\u001b[0m: 'str' object has no attribute 'imag'"
     ]
    }
   ],
   "source": [
    "s.imag"
   ]
  },
  {
   "cell_type": "markdown",
   "metadata": {},
   "source": [
    "Los métodos de un objeto son funciones internas que implementan capacidades del objeto:"
   ]
  },
  {
   "cell_type": "code",
   "execution_count": 14,
   "metadata": {},
   "outputs": [
    {
     "data": {
      "text/plain": [
       "('HOLA', 'hola')"
      ]
     },
     "execution_count": 14,
     "metadata": {},
     "output_type": "execute_result"
    }
   ],
   "source": [
    "# Métodos upper y lower de un string\n",
    "s.upper(), s.lower()"
   ]
  },
  {
   "cell_type": "code",
   "execution_count": 15,
   "metadata": {},
   "outputs": [
    {
     "ename": "AttributeError",
     "evalue": "'complex' object has no attribute 'upper'",
     "output_type": "error",
     "traceback": [
      "\u001b[1;31m---------------------------------------------------------------------------\u001b[0m",
      "\u001b[1;31mAttributeError\u001b[0m                            Traceback (most recent call last)",
      "\u001b[1;32m~\\AppData\\Local\\Temp/ipykernel_42264/1145191538.py\u001b[0m in \u001b[0;36m<module>\u001b[1;34m\u001b[0m\n\u001b[1;32m----> 1\u001b[1;33m \u001b[0mx\u001b[0m\u001b[1;33m.\u001b[0m\u001b[0mupper\u001b[0m\u001b[1;33m(\u001b[0m\u001b[1;33m)\u001b[0m\u001b[1;33m\u001b[0m\u001b[1;33m\u001b[0m\u001b[0m\n\u001b[0m",
      "\u001b[1;31mAttributeError\u001b[0m: 'complex' object has no attribute 'upper'"
     ]
    }
   ],
   "source": [
    "x.upper()"
   ]
  },
  {
   "cell_type": "markdown",
   "metadata": {},
   "source": [
    "# 1. ¿Qué es programación orientada a objetos?\n",
    "\n",
    "La programación orientada a objetos (POO) es un paradigma de programación mediante el cual se pueden estructurar programas de forma que sus propiedades y comportamientos sean encapsulados en objetos individuales.\n",
    "\n",
    "Por ejemplo, un **objeto** puede representar a una persona:\n",
    "- con propiedades como nombre, edad, domicilio;\n",
    "- con comportamientos como caminar, hablar, respirar, correr.\n",
    " \n",
    "De manera concisa, POO es un enfoque para modelar cosas concretas, del mundo real como carros, y no solo eso, sino también las relaciones entre distintos objetos como compañías y empleados, estudiantes y profesores."
   ]
  },
  {
   "cell_type": "markdown",
   "metadata": {},
   "source": [
    "Nosotros no somos ajenos a los objetos, pues los hemos venido utilizando desde las clases pasadas.\n",
    "\n",
    "Por ejemplo:"
   ]
  },
  {
   "cell_type": "code",
   "execution_count": 16,
   "metadata": {},
   "outputs": [
    {
     "data": {
      "text/plain": [
       "['Mercurio',\n",
       " 'Venus',\n",
       " 'Tierra',\n",
       " 'Marte',\n",
       " 'Jupiter',\n",
       " 'Saturno',\n",
       " 'Urano',\n",
       " 'Neptuno']"
      ]
     },
     "execution_count": 16,
     "metadata": {},
     "output_type": "execute_result"
    }
   ],
   "source": [
    "# La lista de planetas, otra vez\n",
    "planetas = ['Mercurio', 'Venus', 'Tierra', 'Marte', 'Jupiter', 'Saturno', 'Urano', 'Neptuno']\n",
    "planetas"
   ]
  },
  {
   "cell_type": "markdown",
   "metadata": {},
   "source": [
    "Planetas no es solo la lista que vemos. Trae consigo ciertas funcionalidades (métodos) que resultan ser muy útiles"
   ]
  },
  {
   "cell_type": "code",
   "execution_count": 17,
   "metadata": {},
   "outputs": [
    {
     "name": "stdout",
     "output_type": "stream",
     "text": [
      "Help on list object:\n",
      "\n",
      "class list(object)\n",
      " |  list(iterable=(), /)\n",
      " |  \n",
      " |  Built-in mutable sequence.\n",
      " |  \n",
      " |  If no argument is given, the constructor creates a new empty list.\n",
      " |  The argument must be an iterable if specified.\n",
      " |  \n",
      " |  Methods defined here:\n",
      " |  \n",
      " |  __add__(self, value, /)\n",
      " |      Return self+value.\n",
      " |  \n",
      " |  __contains__(self, key, /)\n",
      " |      Return key in self.\n",
      " |  \n",
      " |  __delitem__(self, key, /)\n",
      " |      Delete self[key].\n",
      " |  \n",
      " |  __eq__(self, value, /)\n",
      " |      Return self==value.\n",
      " |  \n",
      " |  __ge__(self, value, /)\n",
      " |      Return self>=value.\n",
      " |  \n",
      " |  __getattribute__(self, name, /)\n",
      " |      Return getattr(self, name).\n",
      " |  \n",
      " |  __getitem__(...)\n",
      " |      x.__getitem__(y) <==> x[y]\n",
      " |  \n",
      " |  __gt__(self, value, /)\n",
      " |      Return self>value.\n",
      " |  \n",
      " |  __iadd__(self, value, /)\n",
      " |      Implement self+=value.\n",
      " |  \n",
      " |  __imul__(self, value, /)\n",
      " |      Implement self*=value.\n",
      " |  \n",
      " |  __init__(self, /, *args, **kwargs)\n",
      " |      Initialize self.  See help(type(self)) for accurate signature.\n",
      " |  \n",
      " |  __iter__(self, /)\n",
      " |      Implement iter(self).\n",
      " |  \n",
      " |  __le__(self, value, /)\n",
      " |      Return self<=value.\n",
      " |  \n",
      " |  __len__(self, /)\n",
      " |      Return len(self).\n",
      " |  \n",
      " |  __lt__(self, value, /)\n",
      " |      Return self<value.\n",
      " |  \n",
      " |  __mul__(self, value, /)\n",
      " |      Return self*value.\n",
      " |  \n",
      " |  __ne__(self, value, /)\n",
      " |      Return self!=value.\n",
      " |  \n",
      " |  __repr__(self, /)\n",
      " |      Return repr(self).\n",
      " |  \n",
      " |  __reversed__(self, /)\n",
      " |      Return a reverse iterator over the list.\n",
      " |  \n",
      " |  __rmul__(self, value, /)\n",
      " |      Return value*self.\n",
      " |  \n",
      " |  __setitem__(self, key, value, /)\n",
      " |      Set self[key] to value.\n",
      " |  \n",
      " |  __sizeof__(self, /)\n",
      " |      Return the size of the list in memory, in bytes.\n",
      " |  \n",
      " |  append(self, object, /)\n",
      " |      Append object to the end of the list.\n",
      " |  \n",
      " |  clear(self, /)\n",
      " |      Remove all items from list.\n",
      " |  \n",
      " |  copy(self, /)\n",
      " |      Return a shallow copy of the list.\n",
      " |  \n",
      " |  count(self, value, /)\n",
      " |      Return number of occurrences of value.\n",
      " |  \n",
      " |  extend(self, iterable, /)\n",
      " |      Extend list by appending elements from the iterable.\n",
      " |  \n",
      " |  index(self, value, start=0, stop=9223372036854775807, /)\n",
      " |      Return first index of value.\n",
      " |      \n",
      " |      Raises ValueError if the value is not present.\n",
      " |  \n",
      " |  insert(self, index, object, /)\n",
      " |      Insert object before index.\n",
      " |  \n",
      " |  pop(self, index=-1, /)\n",
      " |      Remove and return item at index (default last).\n",
      " |      \n",
      " |      Raises IndexError if list is empty or index is out of range.\n",
      " |  \n",
      " |  remove(self, value, /)\n",
      " |      Remove first occurrence of value.\n",
      " |      \n",
      " |      Raises ValueError if the value is not present.\n",
      " |  \n",
      " |  reverse(self, /)\n",
      " |      Reverse *IN PLACE*.\n",
      " |  \n",
      " |  sort(self, /, *, key=None, reverse=False)\n",
      " |      Sort the list in ascending order and return None.\n",
      " |      \n",
      " |      The sort is in-place (i.e. the list itself is modified) and stable (i.e. the\n",
      " |      order of two equal elements is maintained).\n",
      " |      \n",
      " |      If a key function is given, apply it once to each list item and sort them,\n",
      " |      ascending or descending, according to their function values.\n",
      " |      \n",
      " |      The reverse flag can be set to sort in descending order.\n",
      " |  \n",
      " |  ----------------------------------------------------------------------\n",
      " |  Static methods defined here:\n",
      " |  \n",
      " |  __new__(*args, **kwargs) from builtins.type\n",
      " |      Create and return a new object.  See help(type) for accurate signature.\n",
      " |  \n",
      " |  ----------------------------------------------------------------------\n",
      " |  Data and other attributes defined here:\n",
      " |  \n",
      " |  __hash__ = None\n",
      "\n"
     ]
    }
   ],
   "source": [
    "# Llamar la función help sobre planetas\n",
    "help(planetas)"
   ]
  },
  {
   "cell_type": "markdown",
   "metadata": {},
   "source": [
    "Por ejemplo, ya no queremos los planetas ordenados de acuerdo a su cercanía al sol, sino que los queremos ordenados de acuerdo a su lejanía al sol:"
   ]
  },
  {
   "cell_type": "code",
   "execution_count": 18,
   "metadata": {},
   "outputs": [],
   "source": [
    "# Usar un método para hacer lo requerido\n",
    "planetas.reverse()"
   ]
  },
  {
   "cell_type": "code",
   "execution_count": 19,
   "metadata": {},
   "outputs": [
    {
     "data": {
      "text/plain": [
       "['Neptuno',\n",
       " 'Urano',\n",
       " 'Saturno',\n",
       " 'Jupiter',\n",
       " 'Marte',\n",
       " 'Tierra',\n",
       " 'Venus',\n",
       " 'Mercurio']"
      ]
     },
     "execution_count": 19,
     "metadata": {},
     "output_type": "execute_result"
    }
   ],
   "source": [
    "planetas"
   ]
  },
  {
   "cell_type": "code",
   "execution_count": 21,
   "metadata": {},
   "outputs": [],
   "source": [
    "planetas.append('New Planet')"
   ]
  },
  {
   "cell_type": "code",
   "execution_count": 22,
   "metadata": {},
   "outputs": [
    {
     "data": {
      "text/plain": [
       "['Neptuno',\n",
       " 'Urano',\n",
       " 'Saturno',\n",
       " 'Jupiter',\n",
       " 'Marte',\n",
       " 'Tierra',\n",
       " 'Venus',\n",
       " 'Mercurio',\n",
       " 'New Planet']"
      ]
     },
     "execution_count": 22,
     "metadata": {},
     "output_type": "execute_result"
    }
   ],
   "source": [
    "planetas"
   ]
  },
  {
   "cell_type": "markdown",
   "metadata": {},
   "source": [
    "No solo las listas son objetos. También lo son cada uno de los tipos de variables que hemos usado:"
   ]
  },
  {
   "cell_type": "code",
   "execution_count": 23,
   "metadata": {},
   "outputs": [
    {
     "data": {
      "text/plain": [
       "True"
      ]
     },
     "execution_count": 23,
     "metadata": {},
     "output_type": "execute_result"
    }
   ],
   "source": [
    "# list\n",
    "isinstance(planetas,object)"
   ]
  },
  {
   "cell_type": "code",
   "execution_count": 24,
   "metadata": {},
   "outputs": [
    {
     "data": {
      "text/plain": [
       "True"
      ]
     },
     "execution_count": 24,
     "metadata": {},
     "output_type": "execute_result"
    }
   ],
   "source": [
    "# int\n",
    "isinstance(1,object)"
   ]
  },
  {
   "cell_type": "code",
   "execution_count": 25,
   "metadata": {},
   "outputs": [
    {
     "data": {
      "text/plain": [
       "True"
      ]
     },
     "execution_count": 25,
     "metadata": {},
     "output_type": "execute_result"
    }
   ],
   "source": [
    "# float\n",
    "isinstance(1.5,object)"
   ]
  },
  {
   "cell_type": "code",
   "execution_count": 26,
   "metadata": {},
   "outputs": [
    {
     "data": {
      "text/plain": [
       "True"
      ]
     },
     "execution_count": 26,
     "metadata": {},
     "output_type": "execute_result"
    }
   ],
   "source": [
    "# str\n",
    "isinstance('planetas',object)"
   ]
  },
  {
   "cell_type": "code",
   "execution_count": null,
   "metadata": {},
   "outputs": [],
   "source": [
    "['Nombre', 'Raza', edad, color, 'Nombre2', 'Raza2', edad2, color2]"
   ]
  },
  {
   "cell_type": "markdown",
   "metadata": {},
   "source": [
    "___\n",
    "# 2. ¿Qué es una clase?\n",
    "\n",
    "Pensando en los objetos que vimos anteriormente, cada objeto es una **instancia** de alguna **clase**.\n",
    "\n",
    "Estas clases (`int`, `float`, `str`, `list`, ...) están diseñadas para representar cosas simples como el costo de algo, el nombre de un poema o tus colores favoritos."
   ]
  },
  {
   "cell_type": "markdown",
   "metadata": {},
   "source": [
    "Pero, ¿y si quisiéramos representar cosas mucho más complejas?\n",
    "\n",
    "Por ejemplo, digamos que tenemos que realizar un software para una veterinaria que guarde información de los diferentes animales que ingresan. Si usáramos una lsita, el primer elemento podría ser el nombre del animal, mientras que el segundo elemento podría representar la edad.\n",
    "\n",
    "¿Cómo sabríamos cuál elemento es cual? Si ingresaran 100 animales, ¿estamos seguros de que cada animal tiene un nombre y una edad? (si hay cierta ética, se recibirían animales de la calle).\n",
    "\n",
    "Por otra parte, si las necesidades de la veterinaria fueran creciendo y tuviéramos que añadir propiedades a esos animales, ¿cómo se modificaría esta lista? ... Todas estas cuestiones de organización que estamos viendo son exactamente el porqué de las clases."
   ]
  },
  {
   "cell_type": "markdown",
   "metadata": {},
   "source": [
    "Las **clases** se usan para crear nuevas estructuras de datos definidas por el programador, que contienen información arbitraria de algo. En el caso de los animales, podríamos crear una clase `Animal()` para guardar todas las propiedades acerca del animal, tales como el nombre y la edad.\n",
    "\n",
    "Es importante notar que la clase solo provee la estructura: *es un diseño de cómo algo debe ser definido*, pero no provee realmente ningún contenido real.\n",
    "\n",
    "La clase `Animal()` puede especificar que el nombre y la edad son necesarios para definir un animal, pero no especificará cuál es el nombre específico de un animal, o su edad.\n",
    "\n",
    "La mejor forma de pensar en una clase es como una **idea de cómo algo debe ser definido**."
   ]
  },
  {
   "cell_type": "markdown",
   "metadata": {},
   "source": [
    "## 2.1 Objetos de Python (Instancias)\n",
    "\n",
    "Mientras que la clase nos da la idea, una **instancia** es una copia de la clase con valores reales, o mejor, *un objeto que pertenece a una clase específica*. Un **objeto o instancia** ya no es una idea, sino un animal realmente con un nombre (por ejemplo, Bombón), y con una edad (por ejemplo, dos años) específicos.\n",
    "\n",
    "Poniéndolo en otros términos, una clase es como un cuestionario: define cierta información básica requerida para un objeto perteneciente a dicha clase. Luego de haber respondido el cuestionario, tenemos una copia con los campos específicamente llenados como una instancia de la clase.\n",
    "\n",
    "Podemos llenar varias copias para crear muchas instancias distintas, pero sin el cuestionario (clase) como la guía, estaríamos perdidos, sin saber qué información es requerida.\n",
    "\n",
    "Por tanto antes de crear instancias individuales de un objeto, primero debemos especificar qué es lo que se requiere definiendo una clase."
   ]
  },
  {
   "cell_type": "markdown",
   "metadata": {},
   "source": [
    "## 2.2 ¿Cómo definir una clase en Python?\n",
    "\n",
    "Definir una clase en Python es súper sencillo:"
   ]
  },
  {
   "cell_type": "code",
   "execution_count": 27,
   "metadata": {},
   "outputs": [],
   "source": [
    "# Clase de los perros\n",
    "class Perro():\n",
    "    pass"
   ]
  },
  {
   "cell_type": "code",
   "execution_count": 28,
   "metadata": {},
   "outputs": [],
   "source": [
    "perro1 = Perro()"
   ]
  },
  {
   "cell_type": "code",
   "execution_count": 29,
   "metadata": {},
   "outputs": [
    {
     "data": {
      "text/plain": [
       "__main__.Perro"
      ]
     },
     "execution_count": 29,
     "metadata": {},
     "output_type": "execute_result"
    }
   ],
   "source": [
    "type(perro1)"
   ]
  },
  {
   "cell_type": "markdown",
   "metadata": {},
   "source": [
    "- Se comienza con la palabra clave `class` para indicar que estás creando una clase.\n",
    "\n",
    "- Luego, se añade el nombre de la clase (se recomienda usar notación [CamelCase](https://en.wikipedia.org/wiki/Camel_case), comenzando con letra mayúscula).\n",
    "\n",
    "- Como ya estamos acostumbrados, los dos puntos `:`, y abajo el cuerpo de la clase indentado."
   ]
  },
  {
   "cell_type": "markdown",
   "metadata": {},
   "source": [
    "### 2.2.1 Atributos de instancia\n",
    "\n",
    "Todas las clases sirven para instanciar objetos, y todos los objetos tienen características llamadas atributos.\n",
    "\n",
    "Usamos el **método constructor `__init__()`** para inicializar (especificar) los atributos iniciales de un objeto, dándoles su valor en específico.\n",
    "\n",
    "Este método tiene que tener, por lo menos, el argumento `self` el cual hace referencia al objeto."
   ]
  },
  {
   "cell_type": "code",
   "execution_count": 30,
   "metadata": {},
   "outputs": [],
   "source": [
    "# Clase de los perros (con nombre y edad)\n",
    "class Perro():\n",
    "    def __init__(self, nombre='Bombon', edad=3):\n",
    "        self.nombre = nombre\n",
    "        self.edad = edad\n",
    "        "
   ]
  },
  {
   "cell_type": "code",
   "execution_count": 31,
   "metadata": {},
   "outputs": [],
   "source": [
    "p1 = Perro()"
   ]
  },
  {
   "cell_type": "code",
   "execution_count": 32,
   "metadata": {},
   "outputs": [
    {
     "data": {
      "text/plain": [
       "('Bombon', 3)"
      ]
     },
     "execution_count": 32,
     "metadata": {},
     "output_type": "execute_result"
    }
   ],
   "source": [
    "p1.nombre, p1.edad"
   ]
  },
  {
   "cell_type": "code",
   "execution_count": 33,
   "metadata": {},
   "outputs": [],
   "source": [
    "otro_perro = Perro('Maya', 4)"
   ]
  },
  {
   "cell_type": "code",
   "execution_count": 34,
   "metadata": {},
   "outputs": [
    {
     "data": {
      "text/plain": [
       "(4, 'Maya')"
      ]
     },
     "execution_count": 34,
     "metadata": {},
     "output_type": "execute_result"
    }
   ],
   "source": [
    "otro_perro.edad, otro_perro.nombre"
   ]
  },
  {
   "cell_type": "markdown",
   "metadata": {},
   "source": [
    "En el caso de nuestra clase `Perro()`, cada perro tiene un nombre y una edad específicos, los cuales son claramente importantes para cuando creemos distintos perros.\n",
    "\n",
    "Recordemos que la clase es solo para definir la idea de lo que se necesita para definir un perro, y no para definir un perro en si. Ya veremos eso.\n",
    "\n",
    "Similarmente, la variable `self` representa una instancia de la clase, pero ninguna instancia en particular. Como las instancias de una clase tienen atributos variables, estaríamos tentados a escribir `Perro.nombre = nombre` en lugar de `self.nombre = nombre`. \n",
    "\n",
    "Sin embargo, no todos los perros tienen el mismo nombre, entonces debemos poder asignar diferentes valores de atributos a diferentes instancias. Por ello la necesidad de la variable especial `self`, que nos permite llevar el seguimiento de las instancias individuales de cada clase.\n",
    "\n",
    "> **Nota**: nunca será necesario llamar el método `__init__()`. Éste se llama automáticamente cuando creamos un nuevo objeto de la clase `Perro()`."
   ]
  },
  {
   "cell_type": "markdown",
   "metadata": {},
   "source": [
    "### 2.2.2 Atributos de clase\n",
    "\n",
    "Mientras que los atributos de instancia son específicos de cada objeto, los **atributos de clase** son los mismos para todas las instancias de la misma clase (en este caso, para todos los Perros)."
   ]
  },
  {
   "cell_type": "code",
   "execution_count": 46,
   "metadata": {},
   "outputs": [],
   "source": [
    "# Clase de los perros (con nombre y edad, mamíferos)\n",
    "class Perro():\n",
    "    def __init__(self, nombre=None, edad=None):\n",
    "        self.nombre = nombre\n",
    "        self.edad = edad\n",
    "        Perro.especie = 'Mamífero'\n",
    "        "
   ]
  },
  {
   "cell_type": "code",
   "execution_count": 47,
   "metadata": {},
   "outputs": [],
   "source": [
    "bombon = Perro(nombre='Bonbón', edad = 5)"
   ]
  },
  {
   "cell_type": "code",
   "execution_count": 48,
   "metadata": {},
   "outputs": [
    {
     "data": {
      "text/plain": [
       "('Bonbón', 5, 'Mamífero')"
      ]
     },
     "execution_count": 48,
     "metadata": {},
     "output_type": "execute_result"
    }
   ],
   "source": [
    "bombon.nombre, bombon.edad, bombon.especie"
   ]
  },
  {
   "cell_type": "code",
   "execution_count": 49,
   "metadata": {},
   "outputs": [],
   "source": [
    "Max = Perro('Max', 5)"
   ]
  },
  {
   "cell_type": "code",
   "execution_count": 50,
   "metadata": {},
   "outputs": [
    {
     "data": {
      "text/plain": [
       "('Mamífero', 5, 'Max')"
      ]
     },
     "execution_count": 50,
     "metadata": {},
     "output_type": "execute_result"
    }
   ],
   "source": [
    "Max.especie, Max.edad, Max.nombre"
   ]
  },
  {
   "cell_type": "code",
   "execution_count": 51,
   "metadata": {},
   "outputs": [],
   "source": [
    "otroperro = Perro()"
   ]
  },
  {
   "cell_type": "code",
   "execution_count": 52,
   "metadata": {},
   "outputs": [],
   "source": [
    "otroperro.nombre"
   ]
  },
  {
   "cell_type": "code",
   "execution_count": 54,
   "metadata": {},
   "outputs": [
    {
     "data": {
      "text/plain": [
       "('Bombón', 5)"
      ]
     },
     "execution_count": 54,
     "metadata": {},
     "output_type": "execute_result"
    }
   ],
   "source": [
    "p2 = Perro(edad = 5, nombre='Bombón')\n",
    "p2.nombre, p2.edad"
   ]
  },
  {
   "cell_type": "markdown",
   "metadata": {},
   "source": [
    "De forma que mientras que cada perro tiene un nombre y una edad particulares, todos los perros son mamíferos.\n",
    "\n",
    "Bueno, ahora creemos algunos perros ..."
   ]
  },
  {
   "cell_type": "markdown",
   "metadata": {},
   "source": [
    "## 2.2 Instanciando objetos\n",
    "\n",
    "Instanciar es un término estrambótico para referirse a crear una nueva y particular instancia de una clase.\n",
    "\n",
    "Por ejemplo:"
   ]
  },
  {
   "cell_type": "code",
   "execution_count": 55,
   "metadata": {},
   "outputs": [],
   "source": [
    "# Instanciar dos objetos de la clase y ver si son iguales\n",
    "p1 = Perro('Maya', 3)\n",
    "p2 = Perro('Nala', 3)"
   ]
  },
  {
   "cell_type": "code",
   "execution_count": 56,
   "metadata": {},
   "outputs": [
    {
     "data": {
      "text/plain": [
       "False"
      ]
     },
     "execution_count": 56,
     "metadata": {},
     "output_type": "execute_result"
    }
   ],
   "source": [
    "p1==p2"
   ]
  },
  {
   "cell_type": "code",
   "execution_count": 58,
   "metadata": {},
   "outputs": [
    {
     "data": {
      "text/plain": [
       "True"
      ]
     },
     "execution_count": 58,
     "metadata": {},
     "output_type": "execute_result"
    }
   ],
   "source": [
    "# ¿y sus tipos?\n",
    "type(p1)==type(p2)"
   ]
  },
  {
   "cell_type": "markdown",
   "metadata": {},
   "source": [
    "Comenzamos por definir la clase `Perro()`.\n",
    "\n",
    "Luego, creamos (instanciamos) dos objetos de la clase Perro: para crear una instancia de una clase, usamos el nombre de la clase, seguido de paréntesis.\n",
    "\n",
    "¿De qué tipo es `a` o `b`?"
   ]
  },
  {
   "cell_type": "markdown",
   "metadata": {},
   "source": [
    "Ahora, usemos la última clase `Perro()` que definimos, que ya tiene atributos:"
   ]
  },
  {
   "cell_type": "code",
   "execution_count": 68,
   "metadata": {},
   "outputs": [],
   "source": [
    "class Perro():\n",
    "    def __init__(self, nombre=None, edad=None):\n",
    "        self.nombre = nombre\n",
    "        self.edad = edad\n",
    "        Perro.especie = 'Mamífero'"
   ]
  },
  {
   "cell_type": "code",
   "execution_count": 60,
   "metadata": {},
   "outputs": [
    {
     "data": {
      "text/plain": [
       "'Maya'"
      ]
     },
     "execution_count": 60,
     "metadata": {},
     "output_type": "execute_result"
    }
   ],
   "source": [
    "# Acceder a los atributos de instancia: imprimir nombre y edad de cada perro\n",
    "p1.nombre"
   ]
  },
  {
   "cell_type": "code",
   "execution_count": 62,
   "metadata": {},
   "outputs": [
    {
     "name": "stdout",
     "output_type": "stream",
     "text": [
      "El nombre de mi perror es : Maya y tiene una edad de 3\n"
     ]
    }
   ],
   "source": [
    "print(f'El nombre de mi perror es : {p1.nombre} y tiene una edad de { p1.edad}' )"
   ]
  },
  {
   "cell_type": "code",
   "execution_count": 63,
   "metadata": {},
   "outputs": [
    {
     "ename": "AttributeError",
     "evalue": "type object 'Perro' has no attribute 'especie'",
     "output_type": "error",
     "traceback": [
      "\u001b[1;31m---------------------------------------------------------------------------\u001b[0m",
      "\u001b[1;31mAttributeError\u001b[0m                            Traceback (most recent call last)",
      "\u001b[1;32m~\\AppData\\Local\\Temp/ipykernel_42264/4094924572.py\u001b[0m in \u001b[0;36m<module>\u001b[1;34m\u001b[0m\n\u001b[0;32m      1\u001b[0m \u001b[1;31m# Acceder a los atributos de clase\u001b[0m\u001b[1;33m\u001b[0m\u001b[1;33m\u001b[0m\u001b[1;33m\u001b[0m\u001b[0m\n\u001b[1;32m----> 2\u001b[1;33m \u001b[0mPerro\u001b[0m\u001b[1;33m.\u001b[0m\u001b[0mespecie\u001b[0m\u001b[1;33m\u001b[0m\u001b[1;33m\u001b[0m\u001b[0m\n\u001b[0m",
      "\u001b[1;31mAttributeError\u001b[0m: type object 'Perro' has no attribute 'especie'"
     ]
    }
   ],
   "source": [
    "# Acceder a los atributos de clase\n",
    "Perro.especie"
   ]
  },
  {
   "cell_type": "code",
   "execution_count": 64,
   "metadata": {},
   "outputs": [
    {
     "data": {
      "text/plain": [
       "'Mamífero'"
      ]
     },
     "execution_count": 64,
     "metadata": {},
     "output_type": "execute_result"
    }
   ],
   "source": [
    "p1.especie"
   ]
  },
  {
   "cell_type": "code",
   "execution_count": 65,
   "metadata": {},
   "outputs": [
    {
     "data": {
      "text/plain": [
       "'Mamífero'"
      ]
     },
     "execution_count": 65,
     "metadata": {},
     "output_type": "execute_result"
    }
   ],
   "source": [
    "# La clase no puede acceder a los atributos de instancia\n",
    "p1.especie"
   ]
  },
  {
   "cell_type": "markdown",
   "metadata": {},
   "source": [
    "¿Cómo saber que cierto objeto es una instancia de una clase en particular?"
   ]
  },
  {
   "cell_type": "code",
   "execution_count": 66,
   "metadata": {},
   "outputs": [
    {
     "data": {
      "text/plain": [
       "True"
      ]
     },
     "execution_count": 66,
     "metadata": {},
     "output_type": "execute_result"
    }
   ],
   "source": [
    "# Función isinstance\n",
    "isinstance(1.5, object)"
   ]
  },
  {
   "cell_type": "code",
   "execution_count": 73,
   "metadata": {},
   "outputs": [
    {
     "data": {
      "text/plain": [
       "__main__.Perro"
      ]
     },
     "execution_count": 73,
     "metadata": {},
     "output_type": "execute_result"
    }
   ],
   "source": [
    "type(bombon)"
   ]
  },
  {
   "cell_type": "code",
   "execution_count": 74,
   "metadata": {},
   "outputs": [
    {
     "data": {
      "text/plain": [
       "False"
      ]
     },
     "execution_count": 74,
     "metadata": {},
     "output_type": "execute_result"
    }
   ],
   "source": [
    "isinstance(bombon, Perro)"
   ]
  },
  {
   "cell_type": "code",
   "execution_count": 75,
   "metadata": {},
   "outputs": [
    {
     "ename": "TypeError",
     "evalue": "isinstance() arg 2 must be a type or tuple of types",
     "output_type": "error",
     "traceback": [
      "\u001b[1;31m---------------------------------------------------------------------------\u001b[0m",
      "\u001b[1;31mTypeError\u001b[0m                                 Traceback (most recent call last)",
      "\u001b[1;32m~\\AppData\\Local\\Temp/ipykernel_42264/1504522448.py\u001b[0m in \u001b[0;36m<module>\u001b[1;34m\u001b[0m\n\u001b[0;32m      1\u001b[0m \u001b[1;31m# Función isinstance sobre los objetos\u001b[0m\u001b[1;33m\u001b[0m\u001b[1;33m\u001b[0m\u001b[1;33m\u001b[0m\u001b[0m\n\u001b[1;32m----> 2\u001b[1;33m \u001b[0misinstance\u001b[0m\u001b[1;33m(\u001b[0m\u001b[0mbombon\u001b[0m\u001b[1;33m,\u001b[0m\u001b[0mp1\u001b[0m\u001b[1;33m)\u001b[0m\u001b[1;33m\u001b[0m\u001b[1;33m\u001b[0m\u001b[0m\n\u001b[0m",
      "\u001b[1;31mTypeError\u001b[0m: isinstance() arg 2 must be a type or tuple of types"
     ]
    }
   ],
   "source": [
    "# Función isinstance sobre los objetos\n",
    "isinstance(bombon,p1)"
   ]
  },
  {
   "cell_type": "code",
   "execution_count": 76,
   "metadata": {},
   "outputs": [
    {
     "data": {
      "text/plain": [
       "True"
      ]
     },
     "execution_count": 76,
     "metadata": {},
     "output_type": "execute_result"
    }
   ],
   "source": [
    "# La función isinstance puede usarse para prevenir comportamientos no deseados\n",
    "isinstance('Hola',str)"
   ]
  },
  {
   "cell_type": "code",
   "execution_count": 77,
   "metadata": {},
   "outputs": [],
   "source": [
    "Max = Perro(nombre='Max', edad=4)"
   ]
  },
  {
   "cell_type": "code",
   "execution_count": 78,
   "metadata": {},
   "outputs": [
    {
     "data": {
      "text/plain": [
       "('Max', 4)"
      ]
     },
     "execution_count": 78,
     "metadata": {},
     "output_type": "execute_result"
    }
   ],
   "source": [
    "Max.nombre, Max.edad"
   ]
  },
  {
   "cell_type": "code",
   "execution_count": 79,
   "metadata": {},
   "outputs": [],
   "source": [
    "Max = Perro(4, 'Max')"
   ]
  },
  {
   "cell_type": "code",
   "execution_count": 80,
   "metadata": {},
   "outputs": [
    {
     "data": {
      "text/plain": [
       "(4, 'Max')"
      ]
     },
     "execution_count": 80,
     "metadata": {},
     "output_type": "execute_result"
    }
   ],
   "source": [
    "Max.nombre, Max.edad"
   ]
  },
  {
   "cell_type": "code",
   "execution_count": 81,
   "metadata": {},
   "outputs": [],
   "source": [
    "class Perro():\n",
    "    def __init__(self, nombre, edad):\n",
    "        #Validar el nombre del objeto\n",
    "        if isinstance(nombre,str):\n",
    "            self.nombre = nombre\n",
    "        else:\n",
    "            raise ValueError(f'El argumento de entrada de la clase Perro \"nombre\"={nombre} debe de ser una instancia de tipo str')\n",
    "        self.edad = edad\n",
    "        Perro.especie = 'Mamífero'"
   ]
  },
  {
   "cell_type": "code",
   "execution_count": 82,
   "metadata": {},
   "outputs": [],
   "source": [
    "bombon = Perro('Bombon', 3)"
   ]
  },
  {
   "cell_type": "code",
   "execution_count": 84,
   "metadata": {},
   "outputs": [
    {
     "ename": "ValueError",
     "evalue": "El argumento de entrada de la clase Perro \"nombre\"=3 debe de ser una instancia de tipo str",
     "output_type": "error",
     "traceback": [
      "\u001b[1;31m---------------------------------------------------------------------------\u001b[0m",
      "\u001b[1;31mValueError\u001b[0m                                Traceback (most recent call last)",
      "\u001b[1;32m~\\AppData\\Local\\Temp/ipykernel_42264/2299752319.py\u001b[0m in \u001b[0;36m<module>\u001b[1;34m\u001b[0m\n\u001b[1;32m----> 1\u001b[1;33m \u001b[0mbombon\u001b[0m \u001b[1;33m=\u001b[0m \u001b[0mPerro\u001b[0m\u001b[1;33m(\u001b[0m \u001b[0mnombre\u001b[0m \u001b[1;33m=\u001b[0m \u001b[1;36m3\u001b[0m\u001b[1;33m,\u001b[0m \u001b[0medad\u001b[0m \u001b[1;33m=\u001b[0m \u001b[1;34m'Bombon'\u001b[0m\u001b[1;33m)\u001b[0m\u001b[1;33m\u001b[0m\u001b[1;33m\u001b[0m\u001b[0m\n\u001b[0m",
      "\u001b[1;32m~\\AppData\\Local\\Temp/ipykernel_42264/3046607198.py\u001b[0m in \u001b[0;36m__init__\u001b[1;34m(self, nombre, edad)\u001b[0m\n\u001b[0;32m      5\u001b[0m             \u001b[0mself\u001b[0m\u001b[1;33m.\u001b[0m\u001b[0mnombre\u001b[0m \u001b[1;33m=\u001b[0m \u001b[0mnombre\u001b[0m\u001b[1;33m\u001b[0m\u001b[1;33m\u001b[0m\u001b[0m\n\u001b[0;32m      6\u001b[0m         \u001b[1;32melse\u001b[0m\u001b[1;33m:\u001b[0m\u001b[1;33m\u001b[0m\u001b[1;33m\u001b[0m\u001b[0m\n\u001b[1;32m----> 7\u001b[1;33m             \u001b[1;32mraise\u001b[0m \u001b[0mValueError\u001b[0m\u001b[1;33m(\u001b[0m\u001b[1;34mf'El argumento de entrada de la clase Perro \"nombre\"={nombre} debe de ser una instancia de tipo str'\u001b[0m\u001b[1;33m)\u001b[0m\u001b[1;33m\u001b[0m\u001b[1;33m\u001b[0m\u001b[0m\n\u001b[0m\u001b[0;32m      8\u001b[0m         \u001b[0mself\u001b[0m\u001b[1;33m.\u001b[0m\u001b[0medad\u001b[0m \u001b[1;33m=\u001b[0m \u001b[0medad\u001b[0m\u001b[1;33m\u001b[0m\u001b[1;33m\u001b[0m\u001b[0m\n\u001b[0;32m      9\u001b[0m         \u001b[0mPerro\u001b[0m\u001b[1;33m.\u001b[0m\u001b[0mespecie\u001b[0m \u001b[1;33m=\u001b[0m \u001b[1;34m'Mamífero'\u001b[0m\u001b[1;33m\u001b[0m\u001b[1;33m\u001b[0m\u001b[0m\n",
      "\u001b[1;31mValueError\u001b[0m: El argumento de entrada de la clase Perro \"nombre\"=3 debe de ser una instancia de tipo str"
     ]
    }
   ],
   "source": [
    "bombon = Perro( nombre = 3, edad = 'Bombon')"
   ]
  },
  {
   "cell_type": "markdown",
   "metadata": {},
   "source": [
    "#### ¿Qué sucedió?"
   ]
  },
  {
   "cell_type": "markdown",
   "metadata": {},
   "source": [
    "## 2.3 Métodos de instancia\n",
    "\n",
    "Los métodos de instancia se definen dentrp de una clase, y se usan para obtener/modificar los contenidos de la instancia.\n",
    "\n",
    "También pueden ser usados para llevar a cabo operaciones con los atributos de los objetos.\n",
    "\n",
    "De la misma manera que el método `__init__()`, el primer argumento es siempre `self`:"
   ]
  },
  {
   "cell_type": "code",
   "execution_count": 99,
   "metadata": {},
   "outputs": [],
   "source": [
    "# A partir de la clase ya definida, crear dos métodos:\n",
    "# uno para describir el perro (nombre y edad),\n",
    "# y otro para que el perro ladre.\n",
    "class Perro():\n",
    "    def __init__(self, nombre, edad):\n",
    "        #Validar el nombre del objeto\n",
    "        if isinstance(nombre,str):\n",
    "            self.nombre = nombre\n",
    "        else:\n",
    "            raise ValueError(f'El argumento de entrada de la clase Perro \"nombre\"={nombre} debe de ser una instancia de tipo str')\n",
    "        self.edad = edad\n",
    "        Perro.especie = 'Mamífero'\n",
    "        \n",
    "    def describir(self):\n",
    "        print(f'{self.nombre} tiene {self.edad} años')\n",
    "        \n",
    "    def ladrar(self, ladrido='guau'):\n",
    "        print(f'{ladrido}, {ladrido}')"
   ]
  },
  {
   "cell_type": "code",
   "execution_count": 100,
   "metadata": {},
   "outputs": [],
   "source": [
    "# Instanciar un perro y usar los métodos anteriormente definidos\n",
    "p1 = Perro('Max', 4)"
   ]
  },
  {
   "cell_type": "code",
   "execution_count": 101,
   "metadata": {},
   "outputs": [
    {
     "data": {
      "text/plain": [
       "('Mamífero', 'Max', 4)"
      ]
     },
     "execution_count": 101,
     "metadata": {},
     "output_type": "execute_result"
    }
   ],
   "source": [
    "p1.especie, p1.nombre, p1.edad"
   ]
  },
  {
   "cell_type": "code",
   "execution_count": 102,
   "metadata": {},
   "outputs": [
    {
     "name": "stdout",
     "output_type": "stream",
     "text": [
      "Max tiene 4 años\n"
     ]
    }
   ],
   "source": [
    "p1.describir()"
   ]
  },
  {
   "cell_type": "code",
   "execution_count": 103,
   "metadata": {},
   "outputs": [
    {
     "name": "stdout",
     "output_type": "stream",
     "text": [
      "guau, guau\n"
     ]
    }
   ],
   "source": [
    "p1.ladrar()"
   ]
  },
  {
   "cell_type": "code",
   "execution_count": 104,
   "metadata": {},
   "outputs": [
    {
     "name": "stdout",
     "output_type": "stream",
     "text": [
      "guauuuu, guauuuu\n"
     ]
    }
   ],
   "source": [
    "p1.ladrar('guauuuu')"
   ]
  },
  {
   "cell_type": "code",
   "execution_count": 105,
   "metadata": {},
   "outputs": [
    {
     "data": {
      "text/plain": [
       "'Max'"
      ]
     },
     "execution_count": 105,
     "metadata": {},
     "output_type": "execute_result"
    }
   ],
   "source": [
    "p1.nombre"
   ]
  },
  {
   "cell_type": "code",
   "execution_count": 106,
   "metadata": {},
   "outputs": [],
   "source": [
    "p1.nombre = 'max'"
   ]
  },
  {
   "cell_type": "code",
   "execution_count": 107,
   "metadata": {},
   "outputs": [
    {
     "data": {
      "text/plain": [
       "'max'"
      ]
     },
     "execution_count": 107,
     "metadata": {},
     "output_type": "execute_result"
    }
   ],
   "source": [
    "p1.nombre"
   ]
  },
  {
   "cell_type": "markdown",
   "metadata": {},
   "source": [
    "### 2.3.1 Modificando atributos\n",
    "\n",
    "Se puede modificar el valor de los atributos con base en algún comportamiento:\n",
    "\n",
    "> Se recomienda modificar estos atributos por medio de métodos y nunca directamente."
   ]
  },
  {
   "cell_type": "code",
   "execution_count": 108,
   "metadata": {},
   "outputs": [],
   "source": [
    "# Ejemplo: clase email con atributo enviado y método enviar\n",
    "class Email():\n",
    "    def __init__(self):\n",
    "        self.mensaje=''\n",
    "        self.enviado=False\n",
    "    \n",
    "    def enviar(self):\n",
    "        self.enviado=True"
   ]
  },
  {
   "cell_type": "code",
   "execution_count": 109,
   "metadata": {},
   "outputs": [],
   "source": [
    "# Instanciar, ver atributo, correr método y ver atributo de nuevo\n",
    "email = Email()"
   ]
  },
  {
   "cell_type": "code",
   "execution_count": 111,
   "metadata": {},
   "outputs": [
    {
     "data": {
      "text/plain": [
       "('', False)"
      ]
     },
     "execution_count": 111,
     "metadata": {},
     "output_type": "execute_result"
    }
   ],
   "source": [
    "email.mensaje, email.enviado"
   ]
  },
  {
   "cell_type": "code",
   "execution_count": 112,
   "metadata": {},
   "outputs": [],
   "source": [
    "email.mensaje='jasjkaslaslkdsaklasd'"
   ]
  },
  {
   "cell_type": "code",
   "execution_count": 113,
   "metadata": {},
   "outputs": [
    {
     "data": {
      "text/plain": [
       "'jasjkaslaslkdsaklasd'"
      ]
     },
     "execution_count": 113,
     "metadata": {},
     "output_type": "execute_result"
    }
   ],
   "source": [
    "email.mensaje"
   ]
  },
  {
   "cell_type": "code",
   "execution_count": 114,
   "metadata": {},
   "outputs": [],
   "source": [
    "class Email():\n",
    "    def __init__(self):\n",
    "        self.mensaje=''\n",
    "        self.enviado=False\n",
    "    \n",
    "    def escribir_mensaje(self, mensaje):\n",
    "        self.mensaje = mensaje\n",
    "        \n",
    "    def enviar(self):\n",
    "        self.enviado=True"
   ]
  },
  {
   "cell_type": "code",
   "execution_count": 115,
   "metadata": {},
   "outputs": [],
   "source": [
    "email = Email()"
   ]
  },
  {
   "cell_type": "code",
   "execution_count": 116,
   "metadata": {},
   "outputs": [],
   "source": [
    "email.escribir_mensaje('Hola a todos')\n"
   ]
  },
  {
   "cell_type": "code",
   "execution_count": 117,
   "metadata": {},
   "outputs": [
    {
     "data": {
      "text/plain": [
       "'Hola a todos'"
      ]
     },
     "execution_count": 117,
     "metadata": {},
     "output_type": "execute_result"
    }
   ],
   "source": [
    "email.mensaje"
   ]
  },
  {
   "cell_type": "code",
   "execution_count": 118,
   "metadata": {},
   "outputs": [],
   "source": [
    "email.enviar()"
   ]
  },
  {
   "cell_type": "code",
   "execution_count": 119,
   "metadata": {},
   "outputs": [
    {
     "data": {
      "text/plain": [
       "True"
      ]
     },
     "execution_count": 119,
     "metadata": {},
     "output_type": "execute_result"
    }
   ],
   "source": [
    "email.enviado"
   ]
  },
  {
   "cell_type": "code",
   "execution_count": 126,
   "metadata": {},
   "outputs": [],
   "source": [
    "class Email():\n",
    "    def __init__(self):\n",
    "        self.mensaje=''\n",
    "        self.enviado=False\n",
    "    \n",
    "    def escribir_mensaje(self, mensaje):\n",
    "        if len(mensaje)>10:\n",
    "            raise ValueError(f'El mensaje contiene {len(mensaje)} caracteres y el máximo es de 20')\n",
    "        else:\n",
    "            self.mensaje = mensaje\n",
    "            #self.enviar()\n",
    "        \n",
    "    def enviar(self):\n",
    "        self.enviado=True"
   ]
  },
  {
   "cell_type": "code",
   "execution_count": 127,
   "metadata": {},
   "outputs": [],
   "source": [
    "email = Email()"
   ]
  },
  {
   "cell_type": "code",
   "execution_count": 128,
   "metadata": {},
   "outputs": [
    {
     "ename": "ValueError",
     "evalue": "El mensaje contiene 24 caracteres y el máximo es de 20",
     "output_type": "error",
     "traceback": [
      "\u001b[1;31m---------------------------------------------------------------------------\u001b[0m",
      "\u001b[1;31mValueError\u001b[0m                                Traceback (most recent call last)",
      "\u001b[1;32m~\\AppData\\Local\\Temp/ipykernel_42264/1489530235.py\u001b[0m in \u001b[0;36m<module>\u001b[1;34m\u001b[0m\n\u001b[1;32m----> 1\u001b[1;33m \u001b[0memail\u001b[0m\u001b[1;33m.\u001b[0m\u001b[0mescribir_mensaje\u001b[0m\u001b[1;33m(\u001b[0m\u001b[1;34m'Hola a todos como les va'\u001b[0m\u001b[1;33m)\u001b[0m\u001b[1;33m\u001b[0m\u001b[1;33m\u001b[0m\u001b[0m\n\u001b[0m",
      "\u001b[1;32m~\\AppData\\Local\\Temp/ipykernel_42264/1251601702.py\u001b[0m in \u001b[0;36mescribir_mensaje\u001b[1;34m(self, mensaje)\u001b[0m\n\u001b[0;32m      6\u001b[0m     \u001b[1;32mdef\u001b[0m \u001b[0mescribir_mensaje\u001b[0m\u001b[1;33m(\u001b[0m\u001b[0mself\u001b[0m\u001b[1;33m,\u001b[0m \u001b[0mmensaje\u001b[0m\u001b[1;33m)\u001b[0m\u001b[1;33m:\u001b[0m\u001b[1;33m\u001b[0m\u001b[1;33m\u001b[0m\u001b[0m\n\u001b[0;32m      7\u001b[0m         \u001b[1;32mif\u001b[0m \u001b[0mlen\u001b[0m\u001b[1;33m(\u001b[0m\u001b[0mmensaje\u001b[0m\u001b[1;33m)\u001b[0m\u001b[1;33m>\u001b[0m\u001b[1;36m10\u001b[0m\u001b[1;33m:\u001b[0m\u001b[1;33m\u001b[0m\u001b[1;33m\u001b[0m\u001b[0m\n\u001b[1;32m----> 8\u001b[1;33m             \u001b[1;32mraise\u001b[0m \u001b[0mValueError\u001b[0m\u001b[1;33m(\u001b[0m\u001b[1;34mf'El mensaje contiene {len(mensaje)} caracteres y el máximo es de 20'\u001b[0m\u001b[1;33m)\u001b[0m\u001b[1;33m\u001b[0m\u001b[1;33m\u001b[0m\u001b[0m\n\u001b[0m\u001b[0;32m      9\u001b[0m         \u001b[1;32melse\u001b[0m\u001b[1;33m:\u001b[0m\u001b[1;33m\u001b[0m\u001b[1;33m\u001b[0m\u001b[0m\n\u001b[0;32m     10\u001b[0m             \u001b[0mself\u001b[0m\u001b[1;33m.\u001b[0m\u001b[0mmensaje\u001b[0m \u001b[1;33m=\u001b[0m \u001b[0mmensaje\u001b[0m\u001b[1;33m\u001b[0m\u001b[1;33m\u001b[0m\u001b[0m\n",
      "\u001b[1;31mValueError\u001b[0m: El mensaje contiene 24 caracteres y el máximo es de 20"
     ]
    }
   ],
   "source": [
    "email.escribir_mensaje('Hola a todos como les va')"
   ]
  },
  {
   "cell_type": "markdown",
   "metadata": {},
   "source": [
    "___\n",
    "## Algunos temas adicionales: Método de Representación, Overloading de operaciones, métodos privados y algunas funcionalidades de la clase pasada.\n",
    "\n",
    "La clase pasada estuvimos explorando los objetos de la clase `fractions.Fraction`. Podemos crear nuestra propia clase `Rational` dando una representación y capacidades de reducción del número."
   ]
  },
  {
   "cell_type": "code",
   "execution_count": null,
   "metadata": {},
   "outputs": [],
   "source": [
    "# Crear la clase de números racionales, con un método __repr__, un método (privado)\n",
    "# de máximo común divisor, y un método público de reducción\n"
   ]
  },
  {
   "cell_type": "markdown",
   "metadata": {},
   "source": [
    "Genial! Y si queremos dar capacidades de suma, resta, multiplicación y división?"
   ]
  },
  {
   "cell_type": "code",
   "execution_count": 129,
   "metadata": {},
   "outputs": [],
   "source": [
    "# Crear de nuevo la clase de números racionales, ahora incluyendo clases\n",
    "# __mul__ y __rmul__\n",
    "\n",
    "# Crear de nuevo la clase de números racionales, ahora incluyendo clases\n",
    "# __mul__ y __rmul__\n",
    "class Rational():\n",
    "    \n",
    "    def __init__(self, num, den):\n",
    "        self._num = num\n",
    "        if den != 0:\n",
    "            self._den = den\n",
    "        else:\n",
    "            raise ValueError(\"The denominator of a rational number must be a integer \"\n",
    "                             \"different from zero.\")\n",
    "        \n",
    "    def __repr__(self):\n",
    "        return f\"{self._num}/{self._den}\"\n",
    "    \n",
    "    def __add__(self, rat):\n",
    "        if isinstance(rat, Rational):\n",
    "            num, den = rat.get_num_den()\n",
    "            gcd = Rational(self._num * den + num * self._den, self._den * den)._gcd()\n",
    "            num, den = (self._num * den + num * self._den) // gcd, self._den * den // gcd\n",
    "            return Rational(num, den)\n",
    "        elif isinstance(rat, int):\n",
    "            result = Rational(self._num + rat * self._den, self._den)\n",
    "            result.reduce()\n",
    "            return result\n",
    "        else:\n",
    "            raise ValueError(\"Adding in rational can only be performed with another \"\n",
    "                             f\"rational or an int. Got {type(rat)} instead.\")\n",
    "    def __radd__(self, rat):\n",
    "        return self.__add__(rat)\n",
    "    \n",
    "    def __sub__(self, rat):\n",
    "        if isinstance(rat, Rational):\n",
    "            num, den = rat.get_num_den()\n",
    "            result = Rational(self._num * den - num * self._den, self._den * den)\n",
    "            result.reduce()\n",
    "            return result\n",
    "        elif isinstance(rat, int):\n",
    "            result = Rational(self._num - rat * self._den, self._den)\n",
    "            result.reduce()\n",
    "            return result\n",
    "        else:\n",
    "            raise ValueError(\"Substraction of rational can only be performed with another \"\n",
    "                             f\"rational or an int. Got {type(rat)} instead.\")\n",
    "            \n",
    "    def __rsub__(self, rat):\n",
    "        return -1 * self.__sub__(rat)\n",
    "    \n",
    "    def __mul__(self, rat):\n",
    "        if isinstance(rat, Rational):\n",
    "            num, den = rat.get_num_den()\n",
    "            return Rational(self._num * num, self._den * den)\n",
    "        elif isinstance(rat, int):\n",
    "            return Rational(self._num * rat, self._den)\n",
    "        else:\n",
    "            raise ValueError(\"Product of rational can only be performed with another \"\n",
    "                             f\"rational or an int. Got {type(rat)} instead.\")\n",
    "            \n",
    "    def __rmul__(self, rat):\n",
    "        return self.__mul__(rat)\n",
    "    \n",
    "    def __truediv__ (self, rat2):\n",
    "        if isinstance(rat2, Rational):\n",
    "            num, den = rat2.get_num_den()\n",
    "            N = self._num * den\n",
    "            D = self._den * num\n",
    "            return Rational(N, D)\n",
    "        elif isinstance(rat2, int):\n",
    "            D = self._den * rat2\n",
    "            return Rational(self._num, D)\n",
    "        else:\n",
    "            raise ValueError(\"Division of rational can only be performed with another \"\n",
    "                             f\"rational or an int. Got {type(rat2)} instead.\")\n",
    "            \n",
    "    def __rtruediv__ (self, rat2):\n",
    "        if isinstance(rat2, int):\n",
    "            N = rat2 * self._den\n",
    "            return Rational(N, self._num)\n",
    "        else:\n",
    "            raise ValueError(\"Division of rational can only be performed with another \"\n",
    "                             f\"rational or an int. Got {type(rat2)} instead.\")\n",
    "    \n",
    "    def get_num_den(self):\n",
    "        return self._num, self._den\n",
    "    \n",
    "    def _gcd(self):\n",
    "        larger, smaller = max(abs(self._num), abs(self._den)), min(abs(self._num), abs(self._den))\n",
    "        small_divisors = [factor for factor in range(1, smaller + 1)\n",
    "                          if smaller % factor == 0]\n",
    "        common_divisors = [factor for factor in small_divisors\n",
    "                           if larger % factor == 0]\n",
    "        return max(common_divisors)\n",
    "    \n",
    "    def reduce(self):\n",
    "        gcd = self._gcd()\n",
    "        self._num //= gcd\n",
    "        self._den //= gcd"
   ]
  },
  {
   "cell_type": "code",
   "execution_count": 130,
   "metadata": {},
   "outputs": [],
   "source": [
    "x = Rational(16,32)"
   ]
  },
  {
   "cell_type": "code",
   "execution_count": 131,
   "metadata": {},
   "outputs": [
    {
     "data": {
      "text/plain": [
       "16/32"
      ]
     },
     "execution_count": 131,
     "metadata": {},
     "output_type": "execute_result"
    }
   ],
   "source": [
    "x"
   ]
  },
  {
   "cell_type": "code",
   "execution_count": 132,
   "metadata": {},
   "outputs": [
    {
     "data": {
      "text/plain": [
       "16/32"
      ]
     },
     "execution_count": 132,
     "metadata": {},
     "output_type": "execute_result"
    }
   ],
   "source": [
    "y = Rational(16,32)\n",
    "y"
   ]
  },
  {
   "cell_type": "code",
   "execution_count": 133,
   "metadata": {},
   "outputs": [
    {
     "data": {
      "text/plain": [
       "1/1"
      ]
     },
     "execution_count": 133,
     "metadata": {},
     "output_type": "execute_result"
    }
   ],
   "source": [
    "y+x"
   ]
  },
  {
   "cell_type": "code",
   "execution_count": null,
   "metadata": {},
   "outputs": [],
   "source": [
    "perro1+perro2"
   ]
  },
  {
   "cell_type": "markdown",
   "metadata": {},
   "source": [
    "### Métodos y atributos privados en python\n",
    "\n",
    "Hemos usado el caracter guión bajo (underscore) `_` en algunos lugares. Esto significa en Python convencionalmente la noción de método privado o atributo privado. Como hemos visto, las clases se diseñan para encapsular información y funcionalidades en un objeto, y proveer interfaz hacia el exterior.\n",
    "\n",
    "Sin embargo, alguna información y/o funcionalidad no está pensada que se exteriorice. Algo así como en una empresa, en la que sabemos que cada trabajador tine sus responsabilidades, y sabe que otras personas tienen ciertas capacidades, pero no necesariamente saben como las otras personas llevan a cabo sus tareas.\n",
    "\n",
    "Esto se formaliza en programación mediante el uso de métodos públicos y privados. Los métodos públicos son los que están expuestos a la interacción con otros objetos y uso en general. Por otra parte, los métodos privados son usados internamente. En `Python` todos los objetos son públicos, pero por convención, aquellos que tienen `_` al inicio del método son concebidos como privados.\n",
    "\n",
    "Otra convención son los métodos que tienen doble underscore al inicio y al final (`__init__`, `__add__`, ...). Son considerados en general como métodos privados, pero son los que nos permiten tener funcionalidades extendidas como la operación `+` a través del método `__add__`.\n",
    "___"
   ]
  },
  {
   "cell_type": "code",
   "execution_count": 134,
   "metadata": {},
   "outputs": [],
   "source": [
    "class Estudiantes:\n",
    "    __NombreEscuela = 'Escuela 1'\n",
    "    def __init__(self, nombre, edad):\n",
    "        self.__nombre = nombre\n",
    "        self.__edad = edad\n",
    "    \n",
    "    def __mostrar(self):\n",
    "        print('Este es un métoodo privado')\n",
    "        \n",
    "    def mostrar_privado(self):\n",
    "        self.__mostrar()\n",
    "    \n",
    "    def mostrar_nombre(self):\n",
    "        print(f'Nombre del estudiante: {self.__nombre}')\n",
    "        \n",
    "    def descripcion_estudiante(self):\n",
    "        print(f'Nombre del estudiante: {self.__nombre} tiene una edad de {self.__edad}')"
   ]
  },
  {
   "cell_type": "code",
   "execution_count": 135,
   "metadata": {},
   "outputs": [],
   "source": [
    "est1 = Estudiantes(nombre='Juan', edad = 25)"
   ]
  },
  {
   "cell_type": "code",
   "execution_count": 136,
   "metadata": {},
   "outputs": [
    {
     "ename": "AttributeError",
     "evalue": "'Estudiantes' object has no attribute '__mostrar'",
     "output_type": "error",
     "traceback": [
      "\u001b[1;31m---------------------------------------------------------------------------\u001b[0m",
      "\u001b[1;31mAttributeError\u001b[0m                            Traceback (most recent call last)",
      "\u001b[1;32m~\\AppData\\Local\\Temp/ipykernel_42264/83807704.py\u001b[0m in \u001b[0;36m<module>\u001b[1;34m\u001b[0m\n\u001b[1;32m----> 1\u001b[1;33m \u001b[0mest1\u001b[0m\u001b[1;33m.\u001b[0m\u001b[0m__mostrar\u001b[0m\u001b[1;33m(\u001b[0m\u001b[1;33m)\u001b[0m\u001b[1;33m\u001b[0m\u001b[1;33m\u001b[0m\u001b[0m\n\u001b[0m",
      "\u001b[1;31mAttributeError\u001b[0m: 'Estudiantes' object has no attribute '__mostrar'"
     ]
    }
   ],
   "source": [
    "est1.__mostrar()"
   ]
  },
  {
   "cell_type": "code",
   "execution_count": 137,
   "metadata": {},
   "outputs": [
    {
     "name": "stdout",
     "output_type": "stream",
     "text": [
      "Este es un métoodo privado\n"
     ]
    }
   ],
   "source": [
    "est1.mostrar_privado()"
   ]
  },
  {
   "cell_type": "code",
   "execution_count": 138,
   "metadata": {},
   "outputs": [
    {
     "ename": "AttributeError",
     "evalue": "'Estudiantes' object has no attribute '__nombre'",
     "output_type": "error",
     "traceback": [
      "\u001b[1;31m---------------------------------------------------------------------------\u001b[0m",
      "\u001b[1;31mAttributeError\u001b[0m                            Traceback (most recent call last)",
      "\u001b[1;32m~\\AppData\\Local\\Temp/ipykernel_42264/2715054994.py\u001b[0m in \u001b[0;36m<module>\u001b[1;34m\u001b[0m\n\u001b[1;32m----> 1\u001b[1;33m \u001b[0mest1\u001b[0m\u001b[1;33m.\u001b[0m\u001b[0m__nombre\u001b[0m\u001b[1;33m\u001b[0m\u001b[1;33m\u001b[0m\u001b[0m\n\u001b[0m",
      "\u001b[1;31mAttributeError\u001b[0m: 'Estudiantes' object has no attribute '__nombre'"
     ]
    }
   ],
   "source": [
    "est1.__nombre"
   ]
  },
  {
   "cell_type": "code",
   "execution_count": 139,
   "metadata": {},
   "outputs": [
    {
     "name": "stdout",
     "output_type": "stream",
     "text": [
      "Nombre del estudiante: Juan tiene una edad de 25\n"
     ]
    }
   ],
   "source": [
    "est1.descripcion_estudiante()"
   ]
  },
  {
   "cell_type": "markdown",
   "metadata": {},
   "source": [
    "# 3. Herencia de objetos en Python\n",
    "\n",
    "**Herencia** es el proceso por el cual una clase toma los atributos y métodos de otra.\n",
    "\n",
    "La nueva clase se llama clase hija, y la clase de de la cual la clase hija se deriva se llama clase padre.\n",
    "\n",
    "Es importante notar que las clases hijas pueden *modificar* o *extender* la funcionalidad (atributos y métodos) de la clase padre. \n",
    "\n",
    "En otras palabras, las clases hijas heredan todos los atributos y métodos de la clase padre, pero también pueden tener distinos comportamientos."
   ]
  },
  {
   "cell_type": "markdown",
   "metadata": {},
   "source": [
    "## 3.1 Ejemplo: parque de perros\n",
    "\n",
    "Digamos que ya no estamos en una veterinaria, sino en un parque de perros. Hay muchos objetos tipo `Perro()`, cada uno con diferentes atributos.\n",
    "\n",
    "Ya tenemos que los perros tienen nombre (que le dio su dueño), y como cada uno esta respirando, tiene una edad.\n",
    "\n",
    "Además, también asignaremos una raza a cada perro para diferenciarlo. Esto puede ser un nuevo atributo en la clase `Perro()`:"
   ]
  },
  {
   "cell_type": "code",
   "execution_count": 141,
   "metadata": {},
   "outputs": [],
   "source": [
    "# Aumentar un atributo más en el método constructor correspondiente a la raza\n",
    "class Perro():\n",
    "    def __init__(self, nombre, edad, raza):\n",
    "        #Validar el nombre del objeto\n",
    "        if isinstance(nombre,str):\n",
    "            self.nombre = nombre\n",
    "        else:\n",
    "            raise ValueError(f'El argumento de entrada de la clase Perro \"nombre\"={nombre} debe de ser una instancia de tipo str')\n",
    "        self.edad = edad\n",
    "        self.raza = raza\n",
    "        Perro.especie = 'Mamífero'\n",
    "        \n",
    "    def describir(self):\n",
    "        print(f'{self.nombre} tiene {self.edad} años')\n",
    "        \n",
    "    def ladrar(self, ladrido='guau'):\n",
    "        print(f'{ladrido}, {ladrido}')"
   ]
  },
  {
   "cell_type": "markdown",
   "metadata": {},
   "source": [
    "Sin embargo, cada raza de perros puede tener comportamientos ligeramente diferentes.\n",
    "\n",
    "Para tenerlos en cuenta, crearemos clases separadas para cada raza: cada una de ellas serán clases hijas de la clase padre `Perro()`:"
   ]
  },
  {
   "cell_type": "code",
   "execution_count": 142,
   "metadata": {},
   "outputs": [],
   "source": [
    "# Clase hija (hereda de la clase Perro from Dog class)\n",
    "class Chihuahua(Perro):\n",
    "    def __init__(self, nombre, edad, otro_atributo):\n",
    "        super().__init__(nombre, edad, 'chihuahua')\n",
    "        self.otro_atributo=otro_atributo\n",
    "    \n",
    "    def ladrar(self, ladrido='guau'):\n",
    "        print('¡'+\",\".join([ladrido for l in range(10)]) + '!')\n",
    "    "
   ]
  },
  {
   "cell_type": "code",
   "execution_count": 161,
   "metadata": {},
   "outputs": [],
   "source": [
    "# Clase hija (hereda de la clase Perro from Dog class)\n",
    "class BorderCollie(Perro):\n",
    "    def __init__(self, nombre, edad, otro_atributo):\n",
    "        super().__init__(nombre, edad, 'Border Collie')\n",
    "        self.otro_atributo=otro_atributo\n",
    "        \n",
    "    def correr(self, vel):\n",
    "        print(f'{self.nombre} corre a una velocidad de {vel} m/s')"
   ]
  },
  {
   "cell_type": "code",
   "execution_count": 162,
   "metadata": {},
   "outputs": [],
   "source": [
    "lala = BorderCollie('Lala', 3, 0.23)"
   ]
  },
  {
   "cell_type": "code",
   "execution_count": 163,
   "metadata": {},
   "outputs": [
    {
     "data": {
      "text/plain": [
       "('Lala', 3, 'Border Collie')"
      ]
     },
     "execution_count": 163,
     "metadata": {},
     "output_type": "execute_result"
    }
   ],
   "source": [
    "lala.nombre, lala.edad, lala.raza"
   ]
  },
  {
   "cell_type": "code",
   "execution_count": 157,
   "metadata": {},
   "outputs": [
    {
     "name": "stdout",
     "output_type": "stream",
     "text": [
      "Lala corre a una velocidad de 2 m/s\n"
     ]
    }
   ],
   "source": [
    "lala.correr(2)"
   ]
  },
  {
   "cell_type": "code",
   "execution_count": 158,
   "metadata": {},
   "outputs": [
    {
     "name": "stdout",
     "output_type": "stream",
     "text": [
      "guau, guau\n"
     ]
    }
   ],
   "source": [
    "lala.ladrar()"
   ]
  },
  {
   "cell_type": "code",
   "execution_count": 159,
   "metadata": {},
   "outputs": [
    {
     "name": "stdout",
     "output_type": "stream",
     "text": [
      "Lala tiene 3 años\n"
     ]
    }
   ],
   "source": [
    "lala.describir()"
   ]
  },
  {
   "cell_type": "code",
   "execution_count": 160,
   "metadata": {},
   "outputs": [
    {
     "data": {
      "text/plain": [
       "0.23"
      ]
     },
     "execution_count": 160,
     "metadata": {},
     "output_type": "execute_result"
    }
   ],
   "source": [
    "lala.otro_atributo"
   ]
  },
  {
   "cell_type": "code",
   "execution_count": 164,
   "metadata": {},
   "outputs": [],
   "source": [
    "lola = Chihuahua('Lola', 5, 2.5)"
   ]
  },
  {
   "cell_type": "code",
   "execution_count": 165,
   "metadata": {},
   "outputs": [
    {
     "name": "stdout",
     "output_type": "stream",
     "text": [
      "¡guau,guau,guau,guau,guau,guau,guau,guau,guau,guau!\n"
     ]
    }
   ],
   "source": [
    "lola.ladrar()"
   ]
  },
  {
   "cell_type": "code",
   "execution_count": null,
   "metadata": {},
   "outputs": [],
   "source": []
  },
  {
   "cell_type": "markdown",
   "metadata": {},
   "source": [
    "Incluso, se puede modificar la funcionalidad de la clase padre:"
   ]
  },
  {
   "cell_type": "code",
   "execution_count": null,
   "metadata": {},
   "outputs": [],
   "source": [
    "# Clase hija (hereda de la clase Perro from Dog class)\n"
   ]
  },
  {
   "cell_type": "code",
   "execution_count": null,
   "metadata": {},
   "outputs": [],
   "source": []
  },
  {
   "cell_type": "code",
   "execution_count": null,
   "metadata": {},
   "outputs": [],
   "source": []
  },
  {
   "cell_type": "code",
   "execution_count": null,
   "metadata": {},
   "outputs": [],
   "source": []
  },
  {
   "cell_type": "markdown",
   "metadata": {},
   "source": [
    "No pretendo que se vuelvan expertos en una clase, pero hasta acá, deberían saber que son clases, porqué querríamos usarlas, y cómo usar herencia para estructurar mejor sus códigos.\n",
    "\n",
    "El paradigma de POO no es un concepto de Python. La mayoría de los lenguajes de programación modernos tales como Java, C#, C++ siguen principios de POO.\n",
    "\n",
    "La buena noticia es que los fundamentos de POO son transversales al lenguaje de programación.\n",
    "\n",
    "Adicionalmente, ya entenderán perfectamente cuando utilicemos las expresiones útiles\n",
    "\n",
    "`objeto.metodo()`\n",
    "\n",
    "`objeto.atributo`"
   ]
  },
  {
   "cell_type": "markdown",
   "metadata": {},
   "source": [
    "#### Les recomiendo leer este [artículo](https://www.freecodecamp.org/news/object-oriented-programming-concepts-21bb035f7260/) acerca de los conceptos básicos de POO.\n",
    "\n",
    "#### Este otro [artículo](https://dbader.org/blog/meaning-of-underscores-in-python) acerca de todos las convenciones concernientes al underscore en Python.\n",
    "\n",
    "#### Ya estará habilitada la tarea para este tema.\n",
    "\n",
    "#### Quiz 2."
   ]
  },
  {
   "cell_type": "code",
   "execution_count": null,
   "metadata": {},
   "outputs": [],
   "source": []
  }
 ],
 "metadata": {
  "kernelspec": {
   "display_name": "Python 3 (ipykernel)",
   "language": "python",
   "name": "python3"
  },
  "language_info": {
   "codemirror_mode": {
    "name": "ipython",
    "version": 3
   },
   "file_extension": ".py",
   "mimetype": "text/x-python",
   "name": "python",
   "nbconvert_exporter": "python",
   "pygments_lexer": "ipython3",
   "version": "3.8.8"
  }
 },
 "nbformat": 4,
 "nbformat_minor": 2
}
